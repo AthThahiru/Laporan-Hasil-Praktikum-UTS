{
  "nbformat": 4,
  "nbformat_minor": 0,
  "metadata": {
    "colab": {
      "provenance": [],
      "authorship_tag": "ABX9TyPs5nlM04SWrmdr97MMT8Ur",
      "include_colab_link": true
    },
    "kernelspec": {
      "name": "python3",
      "display_name": "Python 3"
    },
    "language_info": {
      "name": "python"
    }
  },
  "cells": [
    {
      "cell_type": "markdown",
      "metadata": {
        "id": "view-in-github",
        "colab_type": "text"
      },
      "source": [
        "<a href=\"https://colab.research.google.com/github/AthThahiru/Laporan-Hasil-Praktikum-UTS/blob/main/UTSPraktikum_2.ipynb\" target=\"_parent\"><img src=\"https://colab.research.google.com/assets/colab-badge.svg\" alt=\"Open In Colab\"/></a>"
      ]
    },
    {
      "cell_type": "code",
      "execution_count": null,
      "metadata": {
        "id": "lIIVllAKBPMr",
        "colab": {
          "base_uri": "https://localhost:8080/"
        },
        "outputId": "7a793c28-e775-4ff9-c1d9-f47d74e55284"
      },
      "outputs": [
        {
          "output_type": "stream",
          "name": "stdout",
          "text": [
            "Masukkan NPM anda : 28371236\n",
            "Jumlah bilangan genap :  4\n",
            "Jumlah bilangan ganjil :  4\n"
          ]
        }
      ],
      "source": [
        "\n",
        "npm            = (input(\"Masukkan NPM anda : \"))\n",
        "npm            = [int(i) for i in npm]\n",
        "genap          = 0\n",
        "ganjil         = 0\n",
        "\n",
        "for i in npm :\n",
        "  if i % 2 == 0 :\n",
        "    genap += 1\n",
        "\n",
        "  else :\n",
        "    ganjil += 1\n",
        "\n",
        "print(\"Jumlah bilangan genap : \", genap)\n",
        "print(\"Jumlah bilangan ganjil : \", ganjil)\n"
      ]
    },
    {
      "cell_type": "code",
      "source": [
        "brs       = int(input(\"Input jumlah baris : \"))\n",
        "\n",
        "for i in range(1, brs + 1) :\n",
        "  for j in range(1, i + 1) :\n",
        "    print(i * j, end=\" \")\n",
        "\n",
        "  print()\n"
      ],
      "metadata": {
        "colab": {
          "base_uri": "https://localhost:8080/"
        },
        "id": "syHL0mQfHAJx",
        "outputId": "7a6f77e7-0bfb-404a-c242-244d220a19c5"
      },
      "execution_count": null,
      "outputs": [
        {
          "output_type": "stream",
          "name": "stdout",
          "text": [
            "Input jumlah baris : 5\n",
            "1 \n",
            "2 4 \n",
            "3 6 9 \n",
            "4 8 12 16 \n",
            "5 10 15 20 25 \n"
          ]
        }
      ]
    }
  ]
}